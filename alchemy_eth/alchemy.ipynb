{
 "cells": [
  {
   "cell_type": "markdown",
   "metadata": {},
   "source": [
    "# Alechemy Nodes Data Analysis"
   ]
  },
  {
   "cell_type": "code",
   "execution_count": 237,
   "metadata": {},
   "outputs": [],
   "source": [
    "import requests\n",
    "import json\n",
    "import pandas as pd\n",
    "from bs4 import BeautifulSoup\n",
    "import time"
   ]
  },
  {
   "cell_type": "code",
   "execution_count": 238,
   "metadata": {},
   "outputs": [],
   "source": [
    "# Get the wallet address\n",
    "def decode_topic_address(topic_hex):\n",
    "    return \"0x\" + topic_hex[-40:]"
   ]
  },
  {
   "cell_type": "code",
   "execution_count": null,
   "metadata": {},
   "outputs": [],
   "source": [
    "# Scrape contract name from address on etherscan.io\n",
    "def get_contract_name(address):\n",
    "    url = f\"https://etherscan.io/address/{address}\"\n",
    "    headers = {\n",
    "        \"User-Agent\": \"Mozilla/5.0\"\n",
    "    }\n",
    "\n",
    "    response = requests.get(url, headers=headers)\n",
    "    soup = BeautifulSoup(response.text, \"html.parser\")\n",
    "\n",
    "    title_text = soup.title.string.strip()\n",
    "\n",
    "    contract_name = title_text.split(\"(\")[0].strip()\n",
    "\n",
    "    return contract_name\n"
   ]
  },
  {
   "cell_type": "code",
   "execution_count": null,
   "metadata": {},
   "outputs": [
    {
     "name": "stdout",
     "output_type": "stream",
     "text": [
      "Connected: True\n"
     ]
    }
   ],
   "source": [
    "from web3 import Web3\n",
    "\n",
    "ALCHEMY_API_KEY = \"\"\n",
    "alchemy_url = f\"https://eth-mainnet.g.alchemy.com/v2/{ALCHEMY_API_KEY}\"\n",
    "\n",
    "w3 = Web3(Web3.HTTPProvider(alchemy_url))\n",
    "\n",
    "print(\"Connected:\", w3.is_connected())\n"
   ]
  },
  {
   "cell_type": "code",
   "execution_count": 241,
   "metadata": {},
   "outputs": [],
   "source": [
    "# List of ERC-20 tokens\n",
    "\n",
    "url = \"https://tokens.uniswap.org\"\n",
    "response = requests.get(url)\n",
    "token_data = response.json()"
   ]
  },
  {
   "cell_type": "code",
   "execution_count": 243,
   "metadata": {},
   "outputs": [],
   "source": [
    "# Block Info\n",
    "\n",
    "block_number = 22152102\n",
    "\n",
    "payload = {\n",
    "    \"jsonrpc\": \"2.0\",\n",
    "    \"id\": 1,\n",
    "    \"method\": \"eth_getBlockByNumber\",\n",
    "    \"params\": [hex(block_number),False]\n",
    "}\n",
    "\n",
    "headers = {\"Content-Type\": \"application/json\"}\n",
    "\n",
    "# Send request\n",
    "response = requests.post(alchemy_url, headers=headers, json=payload)\n",
    "\n",
    "# Parse the JSON response\n",
    "block_info_data = response.json()\n",
    "\n",
    "# Extract results (receipts from all transactions in the block)\n",
    "block_info = block_info_data.get(\"result\", [])"
   ]
  },
  {
   "cell_type": "code",
   "execution_count": 244,
   "metadata": {},
   "outputs": [],
   "source": [
    "with open(f\"block_{block_number}_info.json\", \"w\") as file:\n",
    "    json.dump(block_info_data, file, indent=2)"
   ]
  },
  {
   "cell_type": "code",
   "execution_count": 245,
   "metadata": {},
   "outputs": [],
   "source": [
    "# Receipts in the block\n",
    "\n",
    "payload = {\n",
    "    \"jsonrpc\": \"2.0\",\n",
    "    \"id\": 1,\n",
    "    \"method\": \"eth_getBlockReceipts\",\n",
    "    \"params\": [hex(latest_block)]\n",
    "}\n",
    "\n",
    "headers = {\"Content-Type\": \"application/json\"}\n",
    "\n",
    "# Send request\n",
    "response = requests.post(alchemy_url, headers=headers, json=payload)\n",
    "\n",
    "# Parse the JSON response\n",
    "receipts_data = response.json()\n",
    "\n",
    "# Extract results (receipts from all transactions in the block)\n",
    "receipts = receipts_data.get(\"result\", [])"
   ]
  },
  {
   "cell_type": "code",
   "execution_count": 246,
   "metadata": {},
   "outputs": [],
   "source": [
    "with open(f\"block_{block_number}_receipts.json\", \"w\") as file:\n",
    "    json.dump(receipts_data, file, indent=2)"
   ]
  },
  {
   "cell_type": "code",
   "execution_count": 247,
   "metadata": {},
   "outputs": [],
   "source": [
    "uncles_number = len(block_info['uncles'])\n",
    "miner = get_contract_name(block_info['miner'])\n",
    "gas_limit = int(block_info['gasLimit'],16)\n",
    "gas_used = int(block_info['gasUsed'],16)\n",
    "base_fee = int(block_info['baseFeePerGas'],16)\n",
    "withdrawal_nb = len(block_info['withdrawals'])\n",
    "gas_target = gas_limit/2\n",
    "transactions_nb = len(block_info['transactions'])\n",
    "\n",
    "# Total Miners reward: \n",
    "\n",
    "miners_reward = 0\n",
    "\n",
    "for rec in receipts:\n",
    "    rec_gas_used = int(rec['gasUsed'], 16)\n",
    "    rec_effective_gas_price = int(rec['effectiveGasPrice'], 16)\n",
    "    priority_fee = rec_effective_gas_price - base_fee  # All in wei\n",
    "    reward = rec_gas_used * priority_fee\n",
    "    miners_reward += reward\n",
    "\n",
    "miners_reward = miners_reward/1000000000**2"
   ]
  },
  {
   "cell_type": "code",
   "execution_count": null,
   "metadata": {},
   "outputs": [
    {
     "name": "stdout",
     "output_type": "stream",
     "text": [
      "Miner: titanbuilder.eth | Address 0x4838b106fce9647bdf1e7877bf73ce8b0bad5f97 | Etherscan\n",
      "Block number: 22152102\n",
      "Number of uncles: 0\n",
      "Number of transactions: 255\n",
      "Gas Limit (wei): 35964845\n",
      "Gas Used (wei): 29450823\n",
      "Gas Target (wei): 17982422.5\n",
      "Over Target (%): 63.775614770479336%\n",
      "Base Fee per gas (wei): 377861915\n",
      "Burnt ETH in the block: 0.011128344377106044\n",
      "Miners Reward (includes only fee reward): 0.05002913914257148\n",
      "Number of validators withdrawls: 16\n"
     ]
    }
   ],
   "source": [
    "# Blocks data\n",
    "\n",
    "print(f\"Miner: {miner}\")\n",
    "print(f\"Block number: {latest_block}\")\n",
    "print(f\"Number of uncles: {uncles_number}\") # After the merge uncle blocks were completely removed\n",
    "print(f\"Number of transactions: {transactions_nb}\")\n",
    "print(f\"Gas Limit (wei): {gas_limit}\")\n",
    "print(f\"Gas Used (wei): {gas_used}\")\n",
    "print(f\"Gas Target (wei): {gas_target}\")\n",
    "print(f\"Over Target (%): {((gas_used-gas_target)/gas_target)*100}%\")\n",
    "print(f\"Base Fee per gas (wei): {base_fee}\")\n",
    "print(f\"Burnt ETH in the block: {base_fee*gas_used/1000000000**2}\")\n",
    "print(f\"Miners Reward (includes only fee reward) (ETH): {miners_reward}\") # The miners reward includes only the fee reward and not consensus layer reward. To get consensus layer reward, see beaconcha.in\n",
    "print(f\"Number of validators withdrawls: {withdrawal_nb}\")"
   ]
  },
  {
   "cell_type": "code",
   "execution_count": 248,
   "metadata": {},
   "outputs": [],
   "source": [
    "# Validators Withdrawals\n",
    "\n",
    "withdrawals = []\n",
    "\n",
    "for withdrawal in block_info['withdrawals']:\n",
    "    withdrawals.append(\n",
    "    {\"Validator Index\": int(withdrawal['validatorIndex'],16),\n",
    "     \"Wallet Address\": withdrawal['address'],\n",
    "     \"Amount (ETH)\": int(withdrawal['amount'],16)/1000000000\n",
    "    }\n",
    "    )\n",
    "withdrawals_df=pd.DataFrame(withdrawals)"
   ]
  },
  {
   "cell_type": "code",
   "execution_count": 249,
   "metadata": {},
   "outputs": [
    {
     "name": "stdout",
     "output_type": "stream",
     "text": [
      "Validators full withdrawal: 0\n"
     ]
    },
    {
     "data": {
      "text/html": [
       "<div>\n",
       "<style scoped>\n",
       "    .dataframe tbody tr th:only-of-type {\n",
       "        vertical-align: middle;\n",
       "    }\n",
       "\n",
       "    .dataframe tbody tr th {\n",
       "        vertical-align: top;\n",
       "    }\n",
       "\n",
       "    .dataframe thead th {\n",
       "        text-align: right;\n",
       "    }\n",
       "</style>\n",
       "<table border=\"1\" class=\"dataframe\">\n",
       "  <thead>\n",
       "    <tr style=\"text-align: right;\">\n",
       "      <th></th>\n",
       "      <th>Validator Index</th>\n",
       "      <th>Wallet Address</th>\n",
       "      <th>Amount (ETH)</th>\n",
       "    </tr>\n",
       "  </thead>\n",
       "  <tbody>\n",
       "    <tr>\n",
       "      <th>0</th>\n",
       "      <td>1390469</td>\n",
       "      <td>0x22d8048f3ccfbd505611b148d2f35d9aa1890a52</td>\n",
       "      <td>0.018918</td>\n",
       "    </tr>\n",
       "    <tr>\n",
       "      <th>1</th>\n",
       "      <td>1390470</td>\n",
       "      <td>0x22d8048f3ccfbd505611b148d2f35d9aa1890a52</td>\n",
       "      <td>0.018921</td>\n",
       "    </tr>\n",
       "    <tr>\n",
       "      <th>2</th>\n",
       "      <td>1390472</td>\n",
       "      <td>0x22d8048f3ccfbd505611b148d2f35d9aa1890a52</td>\n",
       "      <td>0.018929</td>\n",
       "    </tr>\n",
       "    <tr>\n",
       "      <th>3</th>\n",
       "      <td>1390473</td>\n",
       "      <td>0x22d8048f3ccfbd505611b148d2f35d9aa1890a52</td>\n",
       "      <td>0.018933</td>\n",
       "    </tr>\n",
       "    <tr>\n",
       "      <th>4</th>\n",
       "      <td>1390475</td>\n",
       "      <td>0x22d8048f3ccfbd505611b148d2f35d9aa1890a52</td>\n",
       "      <td>0.018905</td>\n",
       "    </tr>\n",
       "  </tbody>\n",
       "</table>\n",
       "</div>"
      ],
      "text/plain": [
       "   Validator Index                              Wallet Address  Amount (ETH)\n",
       "0          1390469  0x22d8048f3ccfbd505611b148d2f35d9aa1890a52      0.018918\n",
       "1          1390470  0x22d8048f3ccfbd505611b148d2f35d9aa1890a52      0.018921\n",
       "2          1390472  0x22d8048f3ccfbd505611b148d2f35d9aa1890a52      0.018929\n",
       "3          1390473  0x22d8048f3ccfbd505611b148d2f35d9aa1890a52      0.018933\n",
       "4          1390475  0x22d8048f3ccfbd505611b148d2f35d9aa1890a52      0.018905"
      ]
     },
     "execution_count": 249,
     "metadata": {},
     "output_type": "execute_result"
    }
   ],
   "source": [
    "print(f\"Validators full withdrawal: {(withdrawals_df['Amount (ETH)'] >= 32).sum()}\")\n",
    "withdrawals_df.head()"
   ]
  },
  {
   "cell_type": "markdown",
   "metadata": {},
   "source": [
    "We observe in the DataFrame that no validator withdrew the full 32 ETH, indicating that these are partial withdrawals. This suggests that the validators are still active and only withdrew the rewards earned above their original stake. Validators must maintain at least 32 ETH to continue validating, and dropping below that threshold would require them to exit. The ETH being withdrawn here represents staking rewards, not gas fees or tips."
   ]
  },
  {
   "cell_type": "code",
   "execution_count": 250,
   "metadata": {},
   "outputs": [],
   "source": [
    "#Pick first receipt for analysis\n",
    "\n",
    "receipt = receipts[0]"
   ]
  },
  {
   "cell_type": "code",
   "execution_count": 251,
   "metadata": {},
   "outputs": [
    {
     "name": "stdout",
     "output_type": "stream",
     "text": [
      "Maximal number of topics is 3 and minimal is 3\n"
     ]
    }
   ],
   "source": [
    "# Verify maximal and minimal number of topics\n",
    "\n",
    "temp = []\n",
    "\n",
    "for log in receipt[\"logs\"]:\n",
    "    if log[\"topics\"][0]==ERC_20_transfer:\n",
    "        temp.append(len(log[\"topics\"]))\n",
    "\n",
    "print(f\"Maximal number of topics is {max(temp)} and minimal is {min(temp)}\")"
   ]
  },
  {
   "cell_type": "code",
   "execution_count": 252,
   "metadata": {},
   "outputs": [],
   "source": [
    "# Get only logs with ERC-20 transfer events (i.e only events of received and sent)\n",
    "\n",
    "ERC_20_transfer  = \"0xddf252ad1be2c89b69c2b068fc378daa952ba7f163c4a11628f55a4df523b3ef\"\n",
    "\n",
    "rows = []\n",
    "for log in receipt[\"logs\"]:\n",
    "    if log[\"topics\"][0]==ERC_20_transfer:\n",
    "        # Token contract address (e.g. USDC)\n",
    "        contract_address = w3.to_checksum_address(log['address'])\n",
    "\n",
    "        # Minimal ERC-20 ABI\n",
    "        erc20_abi = [\n",
    "        {\"name\": \"name\", \"outputs\": [{\"type\": \"string\"}], \"type\": \"function\", \"stateMutability\": \"view\"},\n",
    "        {\"name\": \"symbol\", \"outputs\": [{\"type\": \"string\"}], \"type\": \"function\", \"stateMutability\": \"view\"},\n",
    "        {\"name\": \"decimals\", \"outputs\": [{\"type\": \"uint8\"}], \"type\": \"function\", \"stateMutability\": \"view\"}\n",
    "        ]\n",
    "\n",
    "        contract = w3.eth.contract(address=contract_address, abi=erc20_abi)\n",
    "\n",
    "        # Call token functions\n",
    "        name = contract.functions.name().call()\n",
    "        symbol = contract.functions.symbol().call()\n",
    "        decimals = contract.functions.decimals().call()\n",
    "\n",
    "        log_from=get_contract_name(decode_topic_address(log['topics'][1]))\n",
    "        time.sleep(2)\n",
    "        log_to=get_contract_name(decode_topic_address(log['topics'][2]))\n",
    "        rows.append(\n",
    "        {\"Token\": symbol,\n",
    "        \"event_from\": log_from,\n",
    "        \"event_to\": log_to,\n",
    "        \"quantity\": int(log['data'],16)/(10**decimals), \n",
    "        \"removed\": log['removed']\n",
    "        }\n",
    "        )\n",
    "\n",
    "df = pd.DataFrame(rows)"
   ]
  },
  {
   "cell_type": "code",
   "execution_count": null,
   "metadata": {},
   "outputs": [],
   "source": [
    "transaction_hash = receipt['transactionHash']\n",
    "high_level_from = receipt['from']\n",
    "high_level_to = receipt['to']\n",
    "effective_gas_price = int(receipt['effectiveGasPrice'],16)\n",
    "receipt_gas_used = int(receipt['gasUsed'],16)\n"
   ]
  },
  {
   "cell_type": "code",
   "execution_count": 254,
   "metadata": {},
   "outputs": [
    {
     "name": "stdout",
     "output_type": "stream",
     "text": [
      "Transaction hash: 0x0fb7e9061e8f7e16b43f66a5406d500b4f1bc6368e085e85684e15940db00264\n",
      "High level from address: 0x5b43453fce04b92e190f391a83136bfbecedefd1\n",
      "High level to address: 0xfbd4cdb413e45a52e2c8312f670e9ce67e794c37\n",
      "Base fee per gas (wei): 377861915\n",
      "Effective Gas Price (wei): 23431287160\n",
      "Gas used (units): 1132121\n",
      "Priority tip (ETH): 0.026099266841794644\n",
      "Burnt ETH from the transaction (ETH): 0.000427785409071715\n",
      "Total paid fees for transaction (ETH): 0.02652705225086636\n"
     ]
    },
    {
     "data": {
      "text/html": [
       "<div>\n",
       "<style scoped>\n",
       "    .dataframe tbody tr th:only-of-type {\n",
       "        vertical-align: middle;\n",
       "    }\n",
       "\n",
       "    .dataframe tbody tr th {\n",
       "        vertical-align: top;\n",
       "    }\n",
       "\n",
       "    .dataframe thead th {\n",
       "        text-align: right;\n",
       "    }\n",
       "</style>\n",
       "<table border=\"1\" class=\"dataframe\">\n",
       "  <thead>\n",
       "    <tr style=\"text-align: right;\">\n",
       "      <th></th>\n",
       "      <th>Token</th>\n",
       "      <th>event_from</th>\n",
       "      <th>event_to</th>\n",
       "      <th>quantity</th>\n",
       "      <th>removed</th>\n",
       "    </tr>\n",
       "  </thead>\n",
       "  <tbody>\n",
       "    <tr>\n",
       "      <th>0</th>\n",
       "      <td>USDC</td>\n",
       "      <td>Uniswap V3: USDC 3</td>\n",
       "      <td>Contract Address 0xfbd4cdb413e45a52e2c8312f670...</td>\n",
       "      <td>125069.012081</td>\n",
       "      <td>False</td>\n",
       "    </tr>\n",
       "    <tr>\n",
       "      <th>1</th>\n",
       "      <td>WETH</td>\n",
       "      <td>Contract Address 0xfbd4cdb413e45a52e2c8312f670...</td>\n",
       "      <td>Uniswap V3: USDC 3</td>\n",
       "      <td>66.983648</td>\n",
       "      <td>False</td>\n",
       "    </tr>\n",
       "    <tr>\n",
       "      <th>2</th>\n",
       "      <td>USDT</td>\n",
       "      <td>Uniswap V3: USDT 3</td>\n",
       "      <td>Contract Address 0xfbd4cdb413e45a52e2c8312f670...</td>\n",
       "      <td>39158.152060</td>\n",
       "      <td>False</td>\n",
       "    </tr>\n",
       "    <tr>\n",
       "      <th>3</th>\n",
       "      <td>WETH</td>\n",
       "      <td>Contract Address 0xfbd4cdb413e45a52e2c8312f670...</td>\n",
       "      <td>Uniswap V3: USDT 3</td>\n",
       "      <td>20.964810</td>\n",
       "      <td>False</td>\n",
       "    </tr>\n",
       "    <tr>\n",
       "      <th>4</th>\n",
       "      <td>USDC</td>\n",
       "      <td>Uniswap V3: USDC 2</td>\n",
       "      <td>Contract Address 0xfbd4cdb413e45a52e2c8312f670...</td>\n",
       "      <td>10325.558660</td>\n",
       "      <td>False</td>\n",
       "    </tr>\n",
       "  </tbody>\n",
       "</table>\n",
       "</div>"
      ],
      "text/plain": [
       "  Token                                         event_from  \\\n",
       "0  USDC                                 Uniswap V3: USDC 3   \n",
       "1  WETH  Contract Address 0xfbd4cdb413e45a52e2c8312f670...   \n",
       "2  USDT                                 Uniswap V3: USDT 3   \n",
       "3  WETH  Contract Address 0xfbd4cdb413e45a52e2c8312f670...   \n",
       "4  USDC                                 Uniswap V3: USDC 2   \n",
       "\n",
       "                                            event_to       quantity  removed  \n",
       "0  Contract Address 0xfbd4cdb413e45a52e2c8312f670...  125069.012081    False  \n",
       "1                                 Uniswap V3: USDC 3      66.983648    False  \n",
       "2  Contract Address 0xfbd4cdb413e45a52e2c8312f670...   39158.152060    False  \n",
       "3                                 Uniswap V3: USDT 3      20.964810    False  \n",
       "4  Contract Address 0xfbd4cdb413e45a52e2c8312f670...   10325.558660    False  "
      ]
     },
     "execution_count": 254,
     "metadata": {},
     "output_type": "execute_result"
    }
   ],
   "source": [
    "print(f\"Transaction hash: {transaction_hash}\")\n",
    "print(f\"High level from address: {high_level_from}\")\n",
    "print(f\"High level to address: {high_level_to}\")\n",
    "print(f\"Base fee per gas (wei): {base_fee}\")\n",
    "print(f\"Effective Gas Price (wei): {effective_gas_price}\") # Includes base fee + priority tip\n",
    "print(f\"Gas used (units): {receipt_gas_used}\")\n",
    "print(f\"Priority tip (ETH): {(effective_gas_price-base_fee)*receipt_gas_used/1000000000**2}\")\n",
    "print(f\"Burnt ETH from the transaction (ETH): {base_fee*receipt_gas_used/1000000000**2}\")\n",
    "print(f\"Total paid fees for transaction (ETH): {receipt_gas_used*effective_gas_price/1000000000**2}\")\n",
    "df.head()"
   ]
  },
  {
   "cell_type": "code",
   "execution_count": 255,
   "metadata": {},
   "outputs": [],
   "source": [
    "df.to_excel('Transaction logs.xlsx', index=False)"
   ]
  },
  {
   "cell_type": "markdown",
   "metadata": {},
   "source": [
    "More endpoints proposed by Alchemy:\n",
    "* eth_getProof - verify wallet balance at given block\n",
    "* eth_getTransactionCount - number of transactions sent from and address\n",
    "* eth_getUncleByBlockHashAndInde\n",
    "* eth_getUncleCountByBlockHash\n",
    "* eth_maxPriorityFeePerGas\n",
    "* eth_newFilter\n",
    "* eth_getFilterChanges\n",
    "* eth_getFilterLogs\n",
    "* eth_newBlockFilter\n",
    "* eth_newPendingTransactionFilter\n",
    "* eth_uninstallFilter\n",
    "* eth_getLogs\n",
    "* eth_getBalance\n",
    "* eth_feeHistory\n",
    "* eth_estimateGas\n",
    "* eth_getStorageAt\n",
    "* Alchemy_getAssetTransfers\n",
    "* alchemy_getTokenBalances\n",
    "* Event Listeners"
   ]
  },
  {
   "cell_type": "markdown",
   "metadata": {},
   "source": []
  }
 ],
 "metadata": {
  "kernelspec": {
   "display_name": "Python 3",
   "language": "python",
   "name": "python3"
  },
  "language_info": {
   "codemirror_mode": {
    "name": "ipython",
    "version": 3
   },
   "file_extension": ".py",
   "mimetype": "text/x-python",
   "name": "python",
   "nbconvert_exporter": "python",
   "pygments_lexer": "ipython3",
   "version": "3.10.12"
  }
 },
 "nbformat": 4,
 "nbformat_minor": 2
}
